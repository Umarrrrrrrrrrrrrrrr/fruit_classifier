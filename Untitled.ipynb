{
 "cells": [
  {
   "cell_type": "code",
   "execution_count": 1,
   "id": "ff73348b-71ab-4525-9394-2dbefd34e61f",
   "metadata": {
    "scrolled": true
   },
   "outputs": [],
   "source": [
    "import numpy as np\n",
    "\n",
    "\n"
   ]
  },
  {
   "cell_type": "code",
   "execution_count": 2,
   "id": "58392fbd-86f4-48c8-a709-76145941e247",
   "metadata": {},
   "outputs": [],
   "source": [
    "# !pip install matplotlib\n",
    "import matplotlib.pyplot as plt"
   ]
  },
  {
   "cell_type": "code",
   "execution_count": 3,
   "id": "8b53da73-cdba-4165-9300-9c6fdd5269dc",
   "metadata": {},
   "outputs": [],
   "source": [
    "class Perceptron:\n",
    "    def __init__(self, num_inputs, learning_rate=0.01):\n",
    "        # Initialize weights (including bias as weights[0])\n",
    "        self.weights = np.random.rand(num_inputs + 1)\n",
    "        self.learning_rate = learning_rate\n",
    "\n",
    "    def linear(self, inputs):\n",
    "        # Linear combination: w·x + b\n",
    "        return inputs @ self.weights[1:] + self.weights[0]\n",
    "\n",
    "    def Heaviside_step_fn(self, z):\n",
    "        return 1 if z >= 0 else 0\n",
    "\n",
    "    def predict(self, inputs):\n",
    "        Z = self.linear(inputs)\n",
    "        if np.ndim(Z) == 0:  # single sample\n",
    "            return self.Heaviside_step_fn(Z)\n",
    "        return [self.Heaviside_step_fn(z) for z in Z]  # batch\n",
    "\n",
    "    def loss(self, prediction, target):\n",
    "        return target - prediction  # perceptron error\n",
    "\n",
    "    def train(self, inputs, target):\n",
    "        prediction = self.predict(inputs)\n",
    "        if isinstance(prediction, list):  # make sure it's scalar\n",
    "            prediction = prediction[0]\n",
    "        error = self.loss(prediction, target)\n",
    "        # Update weights and bias\n",
    "        self.weights[1:] += self.learning_rate * error * inputs\n",
    "        self.weights[0] += self.learning_rate * error\n",
    "\n",
    "    def fit(self, X, y, num_epochs):\n",
    "        for epoch in range(num_epochs):\n",
    "            for inputs, target in zip(X, y):\n",
    "                self.train(inputs, target)\n"
   ]
  },
  {
   "cell_type": "code",
   "execution_count": 4,
   "id": "d867e988-c5fe-4dfb-b372-4e526a6bce77",
   "metadata": {},
   "outputs": [],
   "source": [
    "# Example fruit classification dataset\n",
    "# Features: [Size (small=0, large=1), Color (green=0, red=1)]\n",
    "# Labels: 0 = apple, 1 = watermelon\n",
    "\n",
    "X = np.array([\n",
    "    [0,0],  # small green -> apple\n",
    "    [0,1],  # small red -> apple\n",
    "    [1,0],  # large green -> apple\n",
    "    [1,1]   # large red -> watermelon\n",
    "])\n",
    "\n",
    "y = np.array([0, 0, 0, 1])\n"
   ]
  },
  {
   "cell_type": "code",
   "execution_count": 5,
   "id": "9cdaf563-4ff5-490a-8d86-d1ff714a5322",
   "metadata": {},
   "outputs": [
    {
     "name": "stdout",
     "output_type": "stream",
     "text": [
      "Learned weights: [0.13949507 0.07637603]\n",
      "Learned bias: -0.21557254377503068\n"
     ]
    }
   ],
   "source": [
    "# Initialize perceptron\n",
    "p = Perceptron(num_inputs=2, learning_rate=0.1)\n",
    "\n",
    "# Train for 10 epochs\n",
    "p.fit(X, y, num_epochs=10)\n",
    "\n",
    "# Print learned weights\n",
    "print(\"Learned weights:\", p.weights[1:])\n",
    "print(\"Learned bias:\", p.weights[0])\n"
   ]
  },
  {
   "cell_type": "code",
   "execution_count": 6,
   "id": "661f717d-3e76-4fec-a078-c1191096807b",
   "metadata": {},
   "outputs": [
    {
     "name": "stdout",
     "output_type": "stream",
     "text": [
      "Prediction for [1 1]: 1\n",
      "Prediction for [0 1]: 0\n",
      "Prediction for [1 0]: 0\n",
      "Prediction for [0 0]: 0\n"
     ]
    }
   ],
   "source": [
    "# Test predictions\n",
    "test_samples = np.array([[1,1],[0,1],[1,0],[0,0]])\n",
    "\n",
    "for sample in test_samples:\n",
    "    print(f\"Prediction for {sample}: {p.predict(sample)}\")\n"
   ]
  },
  {
   "cell_type": "code",
   "execution_count": 7,
   "id": "a615f454-88c4-4d4c-a894-592e72b76ac8",
   "metadata": {},
   "outputs": [
    {
     "data": {
      "image/png": "[encoded data removed]",
      "text/plain": [
       "<Figure size 640x480 with 1 Axes>"
      ]
     },
     "metadata": {},
     "output_type": "display_data"
    }
   ],
   "source": [
    "# Plot the points\n",
    "for x, label in zip(X, y):\n",
    "    color = 'red' if label == 1 else 'green'\n",
    "    plt.scatter(x[0], x[1], color=color, s=100)\n",
    "\n",
    "# Decision boundary: w1*x1 + w2*x2 + b = 0 => x2 = -(w1*x1 + b)/w2\n",
    "x_values = np.array([0, 1])\n",
    "y_values = -(p.weights[1] * x_values + p.weights[0]) / p.weights[2]\n",
    "plt.plot(x_values, y_values, label='Decision boundary')\n",
    "\n",
    "plt.xlabel('Size')\n",
    "plt.ylabel('Color')\n",
    "plt.title('Perceptron Decision Boundary')\n",
    "plt.legend()\n",
    "plt.show()\n"
   ]
  },
  {
   "cell_type": "code",
   "execution_count": null,
   "id": "2308a19f-0eeb-4ad9-a6d6-4d840d687317",
   "metadata": {},
   "outputs": [],
   "source": []
  },
  {
   "cell_type": "code",
   "execution_count": null,
   "id": "8bcd09df-3c18-432d-bd51-30ed6b3ac9a3",
   "metadata": {},
   "outputs": [],
   "source": []
  },
  {
   "cell_type": "code",
   "execution_count": null,
   "id": "218e77fc-1fc8-4657-b32b-2f1da7f3238e",
   "metadata": {},
   "outputs": [],
   "source": []
  },
  {
   "cell_type": "code",
   "execution_count": null,
   "id": "33fb611c-208a-440c-b1d4-eb321546f1dd",
   "metadata": {},
   "outputs": [],
   "source": []
  },
  {
   "cell_type": "code",
   "execution_count": null,
   "id": "6f9b4831-2fbd-4fe0-b740-8ff5b5ae1744",
   "metadata": {},
   "outputs": [],
   "source": []
  }
 ],
 "metadata": {
  "kernelspec": {
   "display_name": "Python 3",
   "language": "python",
   "name": "python3"
  },
  "language_info": {
   "codemirror_mode": {
    "name": "ipython",
    "version": 3
   },
   "file_extension": ".py",
   "mimetype": "text/x-python",
   "name": "python",
   "nbconvert_exporter": "python",
   "pygments_lexer": "ipython3",
   "version": "3.13.5"
  }
 },
 "nbformat": 4,
 "nbformat_minor": 5
}
